{
 "cells": [
  {
   "cell_type": "markdown",
   "metadata": {},
   "source": [
    "## Lab 08\n",
    "### Ilnaz Fazliakhmetov"
   ]
  },
  {
   "cell_type": "markdown",
   "metadata": {},
   "source": [
    "## Assignment 1"
   ]
  },
  {
   "cell_type": "code",
   "execution_count": 133,
   "metadata": {
    "scrolled": true
   },
   "outputs": [
    {
     "data": {
      "text/plain": [
       "(40, 34)"
      ]
     },
     "execution_count": 133,
     "metadata": {},
     "output_type": "execute_result"
    }
   ],
   "source": [
    "import pandas as ps\n",
    "\n",
    "data = ps.read_csv('ds-boot-2.csv', sep = '\\t')\n",
    "data.shape"
   ]
  },
  {
   "cell_type": "code",
   "execution_count": 134,
   "metadata": {},
   "outputs": [
    {
     "data": {
      "text/html": [
       "<div>\n",
       "<style>\n",
       "    .dataframe thead tr:only-child th {\n",
       "        text-align: right;\n",
       "    }\n",
       "\n",
       "    .dataframe thead th {\n",
       "        text-align: left;\n",
       "    }\n",
       "\n",
       "    .dataframe tbody tr th {\n",
       "        vertical-align: top;\n",
       "    }\n",
       "</style>\n",
       "<table border=\"1\" class=\"dataframe\">\n",
       "  <thead>\n",
       "    <tr style=\"text-align: right;\">\n",
       "      <th></th>\n",
       "      <th>id</th>\n",
       "      <th>p1</th>\n",
       "      <th>p2</th>\n",
       "      <th>p3</th>\n",
       "      <th>p4</th>\n",
       "      <th>p5</th>\n",
       "      <th>p6</th>\n",
       "      <th>p7</th>\n",
       "      <th>p8</th>\n",
       "      <th>p9</th>\n",
       "      <th>...</th>\n",
       "      <th>p24</th>\n",
       "      <th>p25</th>\n",
       "      <th>p26</th>\n",
       "      <th>p27</th>\n",
       "      <th>p28</th>\n",
       "      <th>y1</th>\n",
       "      <th>y2</th>\n",
       "      <th>y3</th>\n",
       "      <th>y4</th>\n",
       "      <th>y5</th>\n",
       "    </tr>\n",
       "  </thead>\n",
       "  <tbody>\n",
       "    <tr>\n",
       "      <th>0</th>\n",
       "      <td>11</td>\n",
       "      <td>6.48148</td>\n",
       "      <td>3.0</td>\n",
       "      <td>5.0</td>\n",
       "      <td>7.75000</td>\n",
       "      <td>0.0</td>\n",
       "      <td>7.16667</td>\n",
       "      <td>8.16667</td>\n",
       "      <td>9.66667</td>\n",
       "      <td>6.16667</td>\n",
       "      <td>...</td>\n",
       "      <td>1.66667</td>\n",
       "      <td>3.16667</td>\n",
       "      <td>0.0</td>\n",
       "      <td>0.00000</td>\n",
       "      <td>0.0</td>\n",
       "      <td>1.0</td>\n",
       "      <td>5.00</td>\n",
       "      <td>7.44</td>\n",
       "      <td>1.18</td>\n",
       "      <td>4.38</td>\n",
       "    </tr>\n",
       "    <tr>\n",
       "      <th>1</th>\n",
       "      <td>12</td>\n",
       "      <td>5.74074</td>\n",
       "      <td>4.0</td>\n",
       "      <td>8.0</td>\n",
       "      <td>7.33333</td>\n",
       "      <td>8.0</td>\n",
       "      <td>8.83333</td>\n",
       "      <td>9.75000</td>\n",
       "      <td>9.66667</td>\n",
       "      <td>9.00000</td>\n",
       "      <td>...</td>\n",
       "      <td>2.50000</td>\n",
       "      <td>5.50000</td>\n",
       "      <td>5.0</td>\n",
       "      <td>8.66667</td>\n",
       "      <td>8.0</td>\n",
       "      <td>4.5</td>\n",
       "      <td>4.25</td>\n",
       "      <td>8.93</td>\n",
       "      <td>2.00</td>\n",
       "      <td>6.03</td>\n",
       "    </tr>\n",
       "    <tr>\n",
       "      <th>2</th>\n",
       "      <td>25</td>\n",
       "      <td>7.59259</td>\n",
       "      <td>7.0</td>\n",
       "      <td>8.0</td>\n",
       "      <td>7.66667</td>\n",
       "      <td>8.0</td>\n",
       "      <td>9.66667</td>\n",
       "      <td>9.50000</td>\n",
       "      <td>6.16667</td>\n",
       "      <td>9.66667</td>\n",
       "      <td>...</td>\n",
       "      <td>3.50000</td>\n",
       "      <td>3.50000</td>\n",
       "      <td>9.0</td>\n",
       "      <td>6.50000</td>\n",
       "      <td>7.0</td>\n",
       "      <td>7.5</td>\n",
       "      <td>11.00</td>\n",
       "      <td>8.97</td>\n",
       "      <td>2.00</td>\n",
       "      <td>9.12</td>\n",
       "    </tr>\n",
       "    <tr>\n",
       "      <th>3</th>\n",
       "      <td>31</td>\n",
       "      <td>5.96297</td>\n",
       "      <td>4.0</td>\n",
       "      <td>8.0</td>\n",
       "      <td>9.33333</td>\n",
       "      <td>10.0</td>\n",
       "      <td>9.33333</td>\n",
       "      <td>7.00000</td>\n",
       "      <td>8.50000</td>\n",
       "      <td>9.66667</td>\n",
       "      <td>...</td>\n",
       "      <td>0.00000</td>\n",
       "      <td>0.00000</td>\n",
       "      <td>0.0</td>\n",
       "      <td>0.00000</td>\n",
       "      <td>0.0</td>\n",
       "      <td>4.0</td>\n",
       "      <td>6.25</td>\n",
       "      <td>8.93</td>\n",
       "      <td>1.82</td>\n",
       "      <td>6.41</td>\n",
       "    </tr>\n",
       "    <tr>\n",
       "      <th>4</th>\n",
       "      <td>48</td>\n",
       "      <td>5.44444</td>\n",
       "      <td>1.0</td>\n",
       "      <td>3.5</td>\n",
       "      <td>6.41667</td>\n",
       "      <td>9.0</td>\n",
       "      <td>8.50000</td>\n",
       "      <td>7.08333</td>\n",
       "      <td>6.33333</td>\n",
       "      <td>9.00000</td>\n",
       "      <td>...</td>\n",
       "      <td>0.00000</td>\n",
       "      <td>0.00000</td>\n",
       "      <td>0.0</td>\n",
       "      <td>0.00000</td>\n",
       "      <td>0.0</td>\n",
       "      <td>0.0</td>\n",
       "      <td>3.00</td>\n",
       "      <td>8.08</td>\n",
       "      <td>1.36</td>\n",
       "      <td>3.67</td>\n",
       "    </tr>\n",
       "  </tbody>\n",
       "</table>\n",
       "<p>5 rows × 34 columns</p>\n",
       "</div>"
      ],
      "text/plain": [
       "   id       p1   p2   p3       p4    p5       p6       p7       p8       p9  \\\n",
       "0  11  6.48148  3.0  5.0  7.75000   0.0  7.16667  8.16667  9.66667  6.16667   \n",
       "1  12  5.74074  4.0  8.0  7.33333   8.0  8.83333  9.75000  9.66667  9.00000   \n",
       "2  25  7.59259  7.0  8.0  7.66667   8.0  9.66667  9.50000  6.16667  9.66667   \n",
       "3  31  5.96297  4.0  8.0  9.33333  10.0  9.33333  7.00000  8.50000  9.66667   \n",
       "4  48  5.44444  1.0  3.5  6.41667   9.0  8.50000  7.08333  6.33333  9.00000   \n",
       "\n",
       "   ...       p24      p25  p26      p27  p28   y1     y2    y3    y4    y5  \n",
       "0  ...   1.66667  3.16667  0.0  0.00000  0.0  1.0   5.00  7.44  1.18  4.38  \n",
       "1  ...   2.50000  5.50000  5.0  8.66667  8.0  4.5   4.25  8.93  2.00  6.03  \n",
       "2  ...   3.50000  3.50000  9.0  6.50000  7.0  7.5  11.00  8.97  2.00  9.12  \n",
       "3  ...   0.00000  0.00000  0.0  0.00000  0.0  4.0   6.25  8.93  1.82  6.41  \n",
       "4  ...   0.00000  0.00000  0.0  0.00000  0.0  0.0   3.00  8.08  1.36  3.67  \n",
       "\n",
       "[5 rows x 34 columns]"
      ]
     },
     "execution_count": 134,
     "metadata": {},
     "output_type": "execute_result"
    }
   ],
   "source": [
    "data.head()"
   ]
  },
  {
   "cell_type": "markdown",
   "metadata": {},
   "source": [
    "### Bootstrap estimation"
   ]
  },
  {
   "cell_type": "code",
   "execution_count": 151,
   "metadata": {},
   "outputs": [
    {
     "name": "stdout",
     "output_type": "stream",
     "text": [
      "y1 estimation:\n",
      "mean:\n",
      "(4.0335375 +/- 1.96 * 0.466651052548) for 95% ci\n",
      "median:\n",
      "(4.0185 +/- 1.96 * 0.558822646284) for 95% ci\n",
      "\n",
      "y2 estimation:\n",
      "mean:\n",
      "(5.5377875 +/- 1.96 * 0.527005836513) for 95% ci\n",
      "median:\n",
      "(6.181 +/- 1.96 * 0.698562094591) for 95% ci\n",
      "\n",
      "y3 estimation:\n",
      "mean:\n",
      "(7.292144 +/- 1.96 * 0.485396742252) for 95% ci\n",
      "median:\n",
      "(8.30589 +/- 1.96 * 0.273728346906) for 95% ci\n",
      "\n",
      "y4 estimation:\n",
      "mean:\n",
      "(1.527505 +/- 1.96 * 0.10499431937) for 95% ci\n",
      "median:\n",
      "(1.86162 +/- 1.96 * 0.132657173195) for 95% ci\n",
      "\n",
      "y5 estimation:\n",
      "mean:\n",
      "(5.63358875 +/- 1.96 * 0.461113277499) for 95% ci\n",
      "median:\n",
      "(6.17204 +/- 1.96 * 0.431253566246) for 95% ci\n",
      "\n"
     ]
    }
   ],
   "source": [
    "import numpy as np\n",
    "\n",
    "# numder of bootstrap replications\n",
    "B = 1000\n",
    "\n",
    "orig_samples = data.iloc[:, 1:29]\n",
    "target_labels = data.iloc[:, 29:]\n",
    "\n",
    "def get_bootstrap_estimation(data, stat):\n",
    "    '''stat - statistics under estimation'''\n",
    "    n = len(data)\n",
    "    data_b = np.random.choice(data, (B,n))\n",
    "    stat_applied = np.apply_along_axis(stat, axis=1, arr=data_b)\n",
    "    b_mean = np.mean(stat_applied)\n",
    "    b_std = np.std(stat_applied)\n",
    "    return b_mean, b_std\n",
    "    \n",
    "\n",
    "for label in target_labels:\n",
    "    print label,'estimation:'\n",
    "    print 'mean:'\n",
    "    mean_est, mean_est_std = get_bootstrap_estimation(target_labels[label], np.mean)\n",
    "    print(\"({} +/- 1.96 * {}) for 95% ci\".format(mean_est, mean_est_std))\n",
    "    print(\"median:\")\n",
    "    median_est, median_est_std = get_bootstrap_estimation(target_labels[label], np.median)\n",
    "    print(\"({} +/- 1.96 * {}) for 95% ci\\n\".format(median_est, median_est_std))"
   ]
  },
  {
   "cell_type": "markdown",
   "metadata": {},
   "source": [
    "#### Linear Regression"
   ]
  },
  {
   "cell_type": "code",
   "execution_count": 137,
   "metadata": {},
   "outputs": [
    {
     "name": "stdout",
     "output_type": "stream",
     "text": [
      "y1\n",
      "intercept: -0.303790481741\n",
      "coef: [[-0.39875705 -0.01749444 -0.59131161 -0.35901957 -0.89340988 -1.10250158\n",
      "  -0.32861924 -0.81064672 -0.20272052 -1.22991116]]\n",
      "from [-0.39875705 -0.01749444 -0.59131161 -0.35901957 -0.89340988 -1.10250158\n",
      " -0.32861924 -0.81064672 -0.20272052]    -1.22991115573\n",
      "to   [ 0.61184096  0.66560657  0.62921324  0.94545878  0.39507547  0.67167276\n",
      "  1.04724289  0.07730203  0.69906036]    0.216045206737\n",
      "\n",
      "y2\n",
      "intercept: -0.495235584367\n",
      "coef: [[-0.49193782 -0.28190916 -0.30136387 -0.39655616 -0.88367575 -0.81031776\n",
      "  -0.33838344 -0.92270464 -0.23775864 -1.58949183]]\n",
      "from [-0.49193782 -0.28190916 -0.30136387 -0.39655616 -0.88367575 -0.81031776\n",
      " -0.33838344 -0.92270464 -0.23775864]    -1.58949183424\n",
      "to   [ 0.51189754  0.52365223  1.07704549  1.01653377  0.17029392  0.94893774\n",
      "  1.03736091  0.20959829  0.68624939]    0.0599039355008\n",
      "\n",
      "y3\n",
      "intercept: 0.23639775414\n",
      "coef: [[ 0.04018663 -0.04799105 -0.03920817 -0.15340635 -0.01084948 -0.21406995\n",
      "  -0.01951144  0.11378324 -0.00958415  0.03037832]]\n",
      "from [ 0.04018663 -0.04799105 -0.03920817 -0.15340635 -0.01084948 -0.21406995\n",
      " -0.01951144  0.11378324 -0.00958415]    0.0303783160441\n",
      "to   [ 0.2753809   0.14570775  0.34623905  0.25777548  0.30437871  0.21739215\n",
      "  0.40029826  0.43796387  0.28000572]    0.701892911717\n",
      "\n",
      "y4\n",
      "intercept: 0.115854063109\n",
      "coef: [[-0.09459367 -0.03053384  0.02240886 -0.08692408 -0.03860565 -0.14378352\n",
      "  -0.07760951 -0.08524232 -0.07095331  0.00267732]]\n",
      "from [-0.09459367 -0.03053384  0.02240886 -0.08692408 -0.03860565 -0.14378352\n",
      " -0.07760951 -0.08524232 -0.07095331]    0.00267732207941\n",
      "to   [ 0.08840951  0.05319144  0.21329718  0.16641288  0.13373935  0.07944866\n",
      "  0.14310473  0.06337256  0.09628558]    0.415085475166\n",
      "\n",
      "y5\n",
      "intercept: -0.145622451477\n",
      "coef: [[-0.21795982 -0.0479869  -0.1486403  -0.12709929 -0.48988812 -0.5709938\n",
      "  -0.09999008 -0.46857674 -0.05201533 -0.56828941]]\n",
      "from [-0.21795982 -0.0479869  -0.1486403  -0.12709929 -0.48988812 -0.5709938\n",
      " -0.09999008 -0.46857674 -0.05201533]    -0.568289407745\n",
      "to   [ 0.40277567  0.38045181  0.57401831  0.60299749  0.17748169  0.4300416\n",
      "  0.74123995  0.14634248  0.4710314 ]    0.10531028704\n",
      "\n"
     ]
    }
   ],
   "source": [
    "from sklearn.linear_model import LinearRegression\n",
    "\n",
    "def bootstrap_coeff(X,Y,B=1000):\n",
    "    '''get bootstrapped coef estimation and 95% conf intervals'''\n",
    "    n = X.shape[0]\n",
    "    bootstrap_indices = np.random.choice(range(n), (B, n), replace=True)\n",
    "    coeffs = []\n",
    "    model = LinearRegression()\n",
    "    for sample_index in bootstrap_indices:\n",
    "        X_train = X.iloc[sample_index]\n",
    "        Y_target = Y.iloc[sample_index]\n",
    "        model.fit(X_train, Y_target)\n",
    "        coeffs.append(np.append(model.coef_, model.intercept_))\n",
    "    coeffs = np.array(coeffs)\n",
    "    ci = np.percentile(coeffs, [2.5,97.5], axis=0)\n",
    "    return coeffs.mean(axis=0), ci\n",
    "\n",
    "# to prevent overfitting, only first 10 predictors were used\n",
    "features = ['p%s' % i for i in range(1,10)]\n",
    "\n",
    "\n",
    "for label in target_labels:\n",
    "    coeffs, ci = bootstrap_coeff(data[features], data[label])\n",
    "    print label\n",
    "    print 'intercept:',coeffs[-1]\n",
    "    print 'coef:', ci[:-1]\n",
    "    print 'from', ci[0][:-1], '  ', ci[0][-1]\n",
    "    print 'to  ', ci[1][:-1], '  ', ci[1][-1]\n",
    "    print\n",
    "    \n"
   ]
  },
  {
   "cell_type": "markdown",
   "metadata": {},
   "source": [
    "## Assignment 2"
   ]
  },
  {
   "cell_type": "code",
   "execution_count": 68,
   "metadata": {
    "collapsed": true
   },
   "outputs": [],
   "source": [
    "data2 = ps.read_csv('ds-boot-1.csv', sep = '\\t')"
   ]
  },
  {
   "cell_type": "code",
   "execution_count": 71,
   "metadata": {},
   "outputs": [
    {
     "data": {
      "text/html": [
       "<div>\n",
       "<style>\n",
       "    .dataframe thead tr:only-child th {\n",
       "        text-align: right;\n",
       "    }\n",
       "\n",
       "    .dataframe thead th {\n",
       "        text-align: left;\n",
       "    }\n",
       "\n",
       "    .dataframe tbody tr th {\n",
       "        vertical-align: top;\n",
       "    }\n",
       "</style>\n",
       "<table border=\"1\" class=\"dataframe\">\n",
       "  <thead>\n",
       "    <tr style=\"text-align: right;\">\n",
       "      <th></th>\n",
       "      <th>day</th>\n",
       "      <th>bugsPerDay</th>\n",
       "      <th>cummBugs</th>\n",
       "    </tr>\n",
       "  </thead>\n",
       "  <tbody>\n",
       "    <tr>\n",
       "      <th>0</th>\n",
       "      <td>1</td>\n",
       "      <td>0</td>\n",
       "      <td>0</td>\n",
       "    </tr>\n",
       "    <tr>\n",
       "      <th>1</th>\n",
       "      <td>2</td>\n",
       "      <td>1</td>\n",
       "      <td>1</td>\n",
       "    </tr>\n",
       "    <tr>\n",
       "      <th>2</th>\n",
       "      <td>3</td>\n",
       "      <td>0</td>\n",
       "      <td>1</td>\n",
       "    </tr>\n",
       "    <tr>\n",
       "      <th>3</th>\n",
       "      <td>4</td>\n",
       "      <td>2</td>\n",
       "      <td>3</td>\n",
       "    </tr>\n",
       "    <tr>\n",
       "      <th>4</th>\n",
       "      <td>5</td>\n",
       "      <td>1</td>\n",
       "      <td>4</td>\n",
       "    </tr>\n",
       "  </tbody>\n",
       "</table>\n",
       "</div>"
      ],
      "text/plain": [
       "   day  bugsPerDay  cummBugs\n",
       "0    1           0         0\n",
       "1    2           1         1\n",
       "2    3           0         1\n",
       "3    4           2         3\n",
       "4    5           1         4"
      ]
     },
     "execution_count": 71,
     "metadata": {},
     "output_type": "execute_result"
    }
   ],
   "source": [
    "data2.head()"
   ]
  },
  {
   "cell_type": "code",
   "execution_count": 72,
   "metadata": {},
   "outputs": [
    {
     "data": {
      "text/plain": [
       "(1327, 3)"
      ]
     },
     "execution_count": 72,
     "metadata": {},
     "output_type": "execute_result"
    }
   ],
   "source": [
    "data2.shape"
   ]
  },
  {
   "cell_type": "code",
   "execution_count": 113,
   "metadata": {},
   "outputs": [
    {
     "name": "stdout",
     "output_type": "stream",
     "text": [
      "('G-O S-shaped', array([  8.52279407e+03,   1.86479955e-03]), 106308246.59811872, False)\n"
     ]
    },
    {
     "data": {
      "image/png": "[encoded data removed]",
      "text/plain": [
       "<matplotlib.figure.Figure at 0xe2453c8>"
      ]
     },
     "metadata": {},
     "output_type": "display_data"
    }
   ],
   "source": [
    "from scipy.optimize import minimize\n",
    "import matplotlib.pyplot as plt\n",
    "%matplotlib inline\n",
    "\n",
    "def g_o_s_shaped(a,b,t):\n",
    "    '''Goel-Okumoto S-shaped model'''\n",
    "    return a * (1-(1+b*t)*np.exp(-b*t))\n",
    "\n",
    "def OLS(params):\n",
    "    '''ordinary least squares objective func for Goel-Okumoto S-shaped model'''\n",
    "    t = np.arange(data2['cummBugs'].size)\n",
    "    a,b = params\n",
    "    return ((data2['cummBugs'] - g_o_s_shaped(a,b,t))**2).sum()\n",
    "\n",
    "#optimize parameters\n",
    "gos_opt = minimize(OLS, [5800, 0.001], method='Nelder-Mead')\n",
    "print('G-O S-shaped', gos_opt.x, gos_opt.fun, gos_opt.success)\n",
    "\n",
    "x = np.arange(data2['cummBugs'].size)\n",
    "xs = g_o_s_shaped(gos_opt.x[0], gos_opt.x[1], x)\n",
    "\n",
    "plt.plot(data2['cummBugs'])\n",
    "plt.plot(xs)\n",
    "plt.show()\n",
    "\n"
   ]
  },
  {
   "cell_type": "markdown",
   "metadata": {},
   "source": [
    "### Determining 95% confidence interval for parameters of fitting using Bootstrap"
   ]
  },
  {
   "cell_type": "code",
   "execution_count": 132,
   "metadata": {},
   "outputs": [
    {
     "name": "stdout",
     "output_type": "stream",
     "text": [
      "95% confidence interval for model params:\n",
      "parameter est: 6648.24655766 , conf interval: [ 5644.35255852    7985.47850725 ]\n",
      "parameter est: 0.00226255222962 , conf interval: [ 0.00182314352095    0.00278781338637 ]\n"
     ]
    }
   ],
   "source": [
    "X = data2['bugsPerDay']\n",
    "B = 1000\n",
    "n = X.size\n",
    "\n",
    "b_samples = np.random.choice(X, (B, n))\n",
    "\n",
    "params = []\n",
    "\n",
    "for b_sample in b_samples:\n",
    "    cumm_sum = np.cumsum(b_sample)\n",
    "    \n",
    "    def obj_func(params):\n",
    "        t = np.arange(len(cumm_sum))\n",
    "        a,b = params\n",
    "        return ((cumm_sum - g_o_s_shaped(a,b,t))**2).sum()\n",
    "    \n",
    "    gos_opt = minimize(obj_func, [5800, 0.001], method='Nelder-Mead')\n",
    "    params.append(gos_opt.x)\n",
    "\n",
    "param_est = np.array(params).mean(axis=0)\n",
    "ci = np.percentile(params, [2.5,97.5], axis=0)\n",
    "\n",
    "print '95% confidence interval for model params:'\n",
    "\n",
    "for i in range(len(param_est)):\n",
    "    print 'parameter est:',param_est[i],', conf interval: [',ci[0][i], '  ', ci[1][i],']'"
   ]
  }
 ],
 "metadata": {
  "kernelspec": {
   "display_name": "Python 2",
   "language": "python",
   "name": "python2"
  },
  "language_info": {
   "codemirror_mode": {
    "name": "ipython",
    "version": 2
   },
   "file_extension": ".py",
   "mimetype": "text/x-python",
   "name": "python",
   "nbconvert_exporter": "python",
   "pygments_lexer": "ipython2",
   "version": "2.7.13"
  }
 },
 "nbformat": 4,
 "nbformat_minor": 2
}
