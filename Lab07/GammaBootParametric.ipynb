{
 "cells": [
  {
   "cell_type": "code",
   "execution_count": 18,
   "metadata": {},
   "outputs": [],
   "source": [
    "import os\n",
    "import sys\n",
    "import glob\n",
    "import matplotlib.pyplot as plt\n",
    "import numpy as np\n",
    "import pandas as pd\n",
    "import scipy.stats as st\n",
    "from scipy.stats import rv_continuous, gamma\n",
    "%matplotlib inline\n",
    "%precision 4\n",
    "plt.style.use('ggplot')\n",
    "\n",
    "stat = np.median"
   ]
  },
  {
   "cell_type": "code",
   "execution_count": 19,
   "metadata": {},
   "outputs": [],
   "source": [
    "def get_sample(n):\n",
    "    return np.random.gamma(2, 4, n)\n",
    "\n",
    "def get_sample_param(n, loc, scale):\n",
    "    return np.random.gamma(loc, scale, n)"
   ]
  },
  {
   "cell_type": "code",
   "execution_count": 24,
   "metadata": {},
   "outputs": [
    {
     "name": "stdout",
     "output_type": "stream",
     "text": [
      "DescribeResult(nobs=100L, minmax=(0.60940042520260851, 23.79317486171821), mean=6.5450102457975445, variance=21.907277636302819, skewness=1.3241989642720475, kurtosis=1.8689599648716477)\n"
     ]
    },
    {
     "data": {
      "image/png": "[encoded data removed]",
      "text/plain": [
       "<matplotlib.figure.Figure at 0xc5830b8>"
      ]
     },
     "metadata": {},
     "output_type": "display_data"
    }
   ],
   "source": [
    "np.random.seed(1000)\n",
    "n = 100\n",
    "\n",
    "# sample that contains degrees of the graph\n",
    "x = get_sample(n)\n",
    "#print st.gamma.fit_loc_scale(x)\n",
    "floc, fff, fscale = rv_continuous.fit(gamma, x)\n",
    "print st.describe(x)\n",
    "plt.hist(x, 20, histtype='step');\n"
   ]
  },
  {
   "cell_type": "code",
   "execution_count": 25,
   "metadata": {},
   "outputs": [
    {
     "name": "stdout",
     "output_type": "stream",
     "text": [
      "4.88326772396\n",
      "bias: -0.195232169302\n",
      "variance: 0.283211476254\n",
      "[ 3.9093  6.0026]\n"
     ]
    },
    {
     "data": {
      "image/png": "[encoded data removed]",
      "text/plain": [
       "<matplotlib.figure.Figure at 0xc02ba58>"
      ]
     },
     "metadata": {},
     "output_type": "display_data"
    }
   ],
   "source": [
    "## bootstrap estimation of statistic \"stat\"\n",
    "# numder of bootstrap replications - B\n",
    "B = 2000\n",
    "xb = []\n",
    "for i in range(0, B):\n",
    "    # generate bootstrap replications - xb\n",
    "    xb.append(get_sample_param(n, floc, fscale))\n",
    "    \n",
    "# calculate \"stat\" on each replication \n",
    "xb_star = stat(xb, axis=1)\n",
    "xb_star.sort()\n",
    "\n",
    "# print results mean value of the statistic \"stat\" and the CI for it\n",
    "print xb_star.mean()\n",
    "ci = np.percentile(xb_star, [2.5, 97.5])\n",
    "\n",
    "plt.hist(xb_star, 20, histtype='step');\n",
    "\n",
    "bias = xb_star.mean() - stat(x)\n",
    "variance = sum((xb_star - sum(xb_star)/B)**2)/ (B-1)\n",
    "\n",
    "print \"bias:\", bias\n",
    "print \"variance:\", variance\n",
    "print ci\n"
   ]
  },
  {
   "cell_type": "code",
   "execution_count": 26,
   "metadata": {},
   "outputs": [
    {
     "name": "stdout",
     "output_type": "stream",
     "text": [
      "10.1 %\n",
      "6.76722410111\n"
     ]
    }
   ],
   "source": [
    "# check with sampling from the population (random graphs with n nodes and p=0.155)\n",
    "\n",
    "a = []\n",
    "count = 0\n",
    "total_runs = 1000\n",
    "for i in range(0, total_runs):\n",
    "    # draw a sample    \n",
    "    y = get_sample(n)\n",
    "    \n",
    "    # calculate value of statistic (stat_value)\n",
    "    stat_value = stat(y)\n",
    "    \n",
    "    # if CI contains stat_value\n",
    "    if ci[0]<=stat_value and ci[1]>=stat_value :\n",
    "        count += 1\n",
    "#     else:\n",
    "#         print stat_value\n",
    "    a.append(stat_value)\n",
    "\n",
    "print 100.0*count / total_runs, \"%\"\n",
    "\n",
    "# mean of the sampling distribution\n",
    "print np.mean(a)\n"
   ]
  },
  {
   "cell_type": "code",
   "execution_count": null,
   "metadata": {
    "collapsed": true
   },
   "outputs": [],
   "source": []
  },
  {
   "cell_type": "markdown",
   "metadata": {
    "collapsed": true
   },
   "source": []
  },
  {
   "cell_type": "code",
   "execution_count": null,
   "metadata": {
    "collapsed": true
   },
   "outputs": [],
   "source": []
  },
  {
   "cell_type": "code",
   "execution_count": null,
   "metadata": {
    "collapsed": true
   },
   "outputs": [],
   "source": []
  },
  {
   "cell_type": "code",
   "execution_count": null,
   "metadata": {
    "collapsed": true
   },
   "outputs": [],
   "source": []
  },
  {
   "cell_type": "code",
   "execution_count": null,
   "metadata": {
    "collapsed": true
   },
   "outputs": [],
   "source": []
  }
 ],
 "metadata": {
  "kernelspec": {
   "display_name": "Python 2",
   "language": "python",
   "name": "python2"
  },
  "language_info": {
   "codemirror_mode": {
    "name": "ipython",
    "version": 2
   },
   "file_extension": ".py",
   "mimetype": "text/x-python",
   "name": "python",
   "nbconvert_exporter": "python",
   "pygments_lexer": "ipython2",
   "version": "2.7.13"
  }
 },
 "nbformat": 4,
 "nbformat_minor": 1
}
