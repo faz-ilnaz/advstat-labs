{
 "cells": [
  {
   "cell_type": "code",
   "execution_count": 3,
   "metadata": {},
   "outputs": [],
   "source": [
    "import os\n",
    "import sys\n",
    "import glob\n",
    "import matplotlib.pyplot as plt\n",
    "import numpy as np\n",
    "import pandas as pd\n",
    "import networkx as nx\n",
    "import scipy.stats as st\n",
    "%matplotlib inline\n",
    "%precision 4\n",
    "plt.style.use('ggplot')\n",
    "\n",
    "stat = np.mean"
   ]
  },
  {
   "cell_type": "code",
   "execution_count": 4,
   "metadata": {},
   "outputs": [],
   "source": [
    "def get_sample(n, p):\n",
    "    #G = nx.fast_gnp_random_graph(n, p)\n",
    "    #G = nx.powerlaw_cluster_graph(n, 4, p)\n",
    "    #G = nx.erdos_renyi_graph(n, p)\n",
    "    #G = nx.watts_strogatz_graph(n, 10, p)\n",
    "    #G = nx.random_regular_graph(8, n)\n",
    "    #G = nx.barabasi_albert_graph(n, 100)\n",
    "    G = nx.random_geometric_graph(n, p)\n",
    "\n",
    "    #G = nx.karate_club_graph()\n",
    "    #G = nx.florentine_families_graph()\n",
    "\n",
    "    #     nx.draw(G)\n",
    "    return nx.degree(G).values()\n",
    "    #return nx.pagerank(G).values()"
   ]
  },
  {
   "cell_type": "code",
   "execution_count": 5,
   "metadata": {},
   "outputs": [
    {
     "name": "stdout",
     "output_type": "stream",
     "text": [
      "DescribeResult(nobs=100L, minmax=(1, 13), mean=7.1200000000000001, variance=7.7632323232323239, skewness=-0.22286599054285075, kurtosis=-0.5649426326820595)\n"
     ]
    },
    {
     "data": {
      "image/png": "[encoded data removed]",
      "text/plain": [
       "<matplotlib.figure.Figure at 0x66820b8>"
      ]
     },
     "metadata": {},
     "output_type": "display_data"
    }
   ],
   "source": [
    "np.random.seed(1000)\n",
    "vertex_count = 100\n",
    "\n",
    "# Probability for edge creation\n",
    "prob_of_connection = 0.155\n",
    "\n",
    "# sample that contains degrees of the graph\n",
    "x = get_sample(vertex_count, prob_of_connection)\n",
    "\n",
    "print st.describe(x)\n",
    "plt.hist(x, 20, histtype='step');"
   ]
  },
  {
   "cell_type": "code",
   "execution_count": 6,
   "metadata": {},
   "outputs": [
    {
     "name": "stdout",
     "output_type": "stream",
     "text": [
      "7.118928\n",
      "bias: -0.001072\n",
      "variance: 0.0759351643324\n",
      "[ 6.58  7.66]\n"
     ]
    },
    {
     "data": {
      "image/png": "[encoded data removed]",
      "text/plain": [
       "<matplotlib.figure.Figure at 0xb4edfd0>"
      ]
     },
     "metadata": {},
     "output_type": "display_data"
    }
   ],
   "source": [
    "## bootstrap estimation of statistic \"stat\"\n",
    "# numder of bootstrap replications - B\n",
    "B = 10000\n",
    "\n",
    "# generate bootstrap replications - xb\n",
    "xb = np.random.choice(x, (vertex_count, B), replace=True)\n",
    "\n",
    "# calculate \"stat\" on each replication - mb\n",
    "xb_star = stat(xb, axis=0)\n",
    "xb_star.sort()\n",
    "\n",
    "# print results mean value of the statistic \"stat\" and the CI for it\n",
    "print xb_star.mean()\n",
    "ci = np.percentile(xb_star, [2.5, 97.5])\n",
    "\n",
    "plt.hist(xb_star, 20, histtype='step');\n",
    "\n",
    "bias = xb_star.mean() - stat(x)\n",
    "variance = sum((xb_star - sum(xb_star)/B)**2)/ (B-1)\n",
    "\n",
    "print \"bias:\", bias\n",
    "print \"variance:\", variance\n",
    "print ci\n"
   ]
  },
  {
   "cell_type": "code",
   "execution_count": 7,
   "metadata": {},
   "outputs": [
    {
     "name": "stdout",
     "output_type": "stream",
     "text": [
      "43.8 %\n",
      "6.54688\n"
     ]
    }
   ],
   "source": [
    "# check with sampling from the population (random graphs with n nodes and p=0.155)\n",
    "\n",
    "a = []\n",
    "count = 0\n",
    "total_runs = 1000\n",
    "for i in range(0, total_runs):\n",
    "    # draw a sample    \n",
    "    y = get_sample(vertex_count, prob_of_connection)\n",
    "    \n",
    "    # calculate value of statistic (stat_value)\n",
    "    stat_value = stat(y)\n",
    "    \n",
    "    # if CI contains stat_value\n",
    "    if ci[0]<=stat_value and ci[1]>=stat_value :\n",
    "        count += 1\n",
    "#     else:\n",
    "#         print stat_value\n",
    "    a.append(stat_value)\n",
    "\n",
    "print 100.0*count / total_runs, \"%\"\n",
    "\n",
    "# mean of the sampling distribution\n",
    "print np.mean(a)\n"
   ]
  },
  {
   "cell_type": "code",
   "execution_count": null,
   "metadata": {
    "collapsed": true
   },
   "outputs": [],
   "source": []
  },
  {
   "cell_type": "code",
   "execution_count": null,
   "metadata": {
    "collapsed": true
   },
   "outputs": [],
   "source": []
  },
  {
   "cell_type": "code",
   "execution_count": null,
   "metadata": {
    "collapsed": true
   },
   "outputs": [],
   "source": []
  },
  {
   "cell_type": "code",
   "execution_count": null,
   "metadata": {
    "collapsed": true
   },
   "outputs": [],
   "source": []
  }
 ],
 "metadata": {
  "kernelspec": {
   "display_name": "Python 2",
   "language": "python",
   "name": "python2"
  },
  "language_info": {
   "codemirror_mode": {
    "name": "ipython",
    "version": 2
   },
   "file_extension": ".py",
   "mimetype": "text/x-python",
   "name": "python",
   "nbconvert_exporter": "python",
   "pygments_lexer": "ipython2",
   "version": "2.7.13"
  }
 },
 "nbformat": 4,
 "nbformat_minor": 1
}
